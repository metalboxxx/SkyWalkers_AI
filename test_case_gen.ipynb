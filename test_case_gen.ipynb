{
 "cells": [
  {
   "cell_type": "code",
   "execution_count": 12,
   "id": "19a348fc",
   "metadata": {},
   "outputs": [],
   "source": [
    "from dotenv import load_dotenv\n",
    "import os\n",
    "\n",
    "load_dotenv()\n",
    "\n",
    "llm_api_key = os.getenv(\"ANTHROPIC_API_KEY\")\n",
    "api_max_tokens = 64000\n",
    "\n",
    "\n",
    "path_to_initPrompt_1 = r\"Prompts\\initial_prompt_1.txt\"\n",
    "path_to_pdf = \"ReqView-Example_Software_Requirements_Specification_SRS_Document.pdf\"\n",
    "path_to_initPrompt_2 = r\"Prompts\\initial_prompt_2.txt\"\n",
    "path_to_reflectionPrompt = r\"Prompts\\reflection_prompt.txt\"\n",
    "path_to_finalPrompt = r\"Prompts\\final_prompt.txt\"\n",
    "\n",
    "path_to_output = \"output_test_matrix.json\""
   ]
  },
  {
   "cell_type": "code",
   "execution_count": 13,
   "id": "572133b5",
   "metadata": {},
   "outputs": [],
   "source": [
    "from langchain_anthropic import ChatAnthropic\n",
    "\n",
    "llm = ChatAnthropic(\n",
    "    model=\"claude-3-7-sonnet-latest\",\n",
    "    temperature = 0.3,\n",
    "    max_tokens = api_max_tokens,\n",
    "    api_key = llm_api_key\n",
    ")"
   ]
  },
  {
   "cell_type": "code",
   "execution_count": 14,
   "id": "eb267d73",
   "metadata": {},
   "outputs": [],
   "source": [
    "from typing import TypedDict, Annotated\n",
    "from langchain_core.messages import AnyMessage\n",
    "from langgraph.graph.message import add_messages\n",
    "\n",
    "class AgentState(TypedDict):\n",
    "    messages: Annotated[list[AnyMessage], add_messages]\n"
   ]
  },
  {
   "cell_type": "code",
   "execution_count": 15,
   "id": "97cde03c",
   "metadata": {},
   "outputs": [],
   "source": [
    "## content_prompt_initial\n",
    "import base64\n",
    "\n",
    "with open(path_to_pdf, \"rb\") as f:\n",
    "    pdf_data = base64.standard_b64encode(f.read()).decode(\"utf-8\")\n",
    "\n",
    "with open(path_to_initPrompt_1,\"r\") as f:\n",
    "    initPrompt_1 = f.read()\n",
    "\n",
    "with open(path_to_initPrompt_2,\"r\") as f:\n",
    "    initPrompt_2 = f.read()\n",
    "    \n",
    "content_prompt_initial = [\n",
    "                {\n",
    "                    \"type\": \"text\",\n",
    "                    \"text\": initPrompt_1\n",
    "                },\n",
    "                {\n",
    "                    \"type\": \"document\",\n",
    "                    \"source\": {\n",
    "                        \"type\": \"base64\",\n",
    "                        \"media_type\": \"application/pdf\",\n",
    "                        \"data\": pdf_data\n",
    "                    },\n",
    "                    \"cache_control\": {\"type\": \"ephemeral\"}\n",
    "                },\n",
    "                {\n",
    "                    \"type\": \"text\",\n",
    "                    \"text\": initPrompt_2\n",
    "                }\n",
    "            ]"
   ]
  },
  {
   "cell_type": "code",
   "execution_count": 16,
   "id": "ce4c575e",
   "metadata": {},
   "outputs": [],
   "source": [
    "## content_prompt_reflection\n",
    "with open(path_to_reflectionPrompt,\"r\") as f:\n",
    "    reflectionPrompt = f.read()\n",
    "\n",
    "content_prompt_reflection = [\n",
    "                {\n",
    "                    \"type\": \"text\",\n",
    "                    \"text\": reflectionPrompt\n",
    "                }\n",
    "            ]"
   ]
  },
  {
   "cell_type": "code",
   "execution_count": 17,
   "id": "565d3797",
   "metadata": {},
   "outputs": [],
   "source": [
    "## content_prompt_final\n",
    "with open(path_to_finalPrompt,\"r\") as f:\n",
    "    finalPrompt = f.read()\n",
    "content_prompt_final = [\n",
    "                {\n",
    "                    \"type\": \"text\",\n",
    "                    \"text\": finalPrompt\n",
    "                }\n",
    "            ]"
   ]
  },
  {
   "cell_type": "code",
   "execution_count": 18,
   "id": "1984ec4f",
   "metadata": {},
   "outputs": [],
   "source": [
    "from langchain_core.messages import AIMessage, HumanMessage\n",
    "\n",
    "def write_initial_draft(state: AgentState):\n",
    "    model_response = llm.invoke([HumanMessage(content=content_prompt_initial)])\n",
    "    \n",
    "    return {\"messages\": [HumanMessage(content=content_prompt_initial), model_response]}\n",
    "    "
   ]
  },
  {
   "cell_type": "code",
   "execution_count": 19,
   "id": "bf3624a8",
   "metadata": {},
   "outputs": [],
   "source": [
    "def write_reflection(state: AgentState):\n",
    "    prompt_messages = state['messages'] + [HumanMessage(content=content_prompt_reflection)] \n",
    "    model_response = llm.invoke(prompt_messages)\n",
    "\n",
    "    return{\"messages\": [HumanMessage(content=content_prompt_reflection), model_response]}"
   ]
  },
  {
   "cell_type": "code",
   "execution_count": 20,
   "id": "f0aa6dc9",
   "metadata": {},
   "outputs": [],
   "source": [
    "def write_final(state: AgentState):\n",
    "    prompt_messages = state['messages'] + [HumanMessage(content=content_prompt_final)] +  [AIMessage(content=\"{\")]\n",
    "    ## The AIMessage { is to tell Claude to only create JSON\n",
    "    model_response = llm.invoke(prompt_messages)\n",
    "\n",
    "    return{\"messages\":[HumanMessage(content=content_prompt_final), model_response]}"
   ]
  },
  {
   "cell_type": "code",
   "execution_count": 21,
   "id": "8c4d337a",
   "metadata": {},
   "outputs": [],
   "source": [
    "from langgraph.graph import StateGraph, START, END\n",
    "\n",
    "builder = StateGraph(AgentState)\n",
    "builder.add_node(write_initial_draft, \"write_initial_draft\")\n",
    "builder.add_node(write_reflection, \"write_reflection\")\n",
    "builder.add_node(write_final, \"write_final\")\n",
    "\n",
    "builder.add_edge(START, \"write_initial_draft\")\n",
    "builder.add_edge(\"write_initial_draft\",\"write_reflection\")\n",
    "builder.add_edge(\"write_reflection\",\"write_final\")\n",
    "builder.add_edge(\"write_final\",END)\n",
    "\n",
    "graph = builder.compile()"
   ]
  },
  {
   "cell_type": "code",
   "execution_count": null,
   "id": "b32cf66a",
   "metadata": {},
   "outputs": [],
   "source": [
    "langchainConfig_messages = graph.invoke({\"messages\": []})\n",
    "langchainConfig_messages['messages'][-1].response_metadata"
   ]
  },
  {
   "cell_type": "code",
   "execution_count": null,
   "id": "c3795ef2",
   "metadata": {},
   "outputs": [],
   "source": [
    "import json\n",
    "\n",
    "output_testCase_JSON_string = langchainConfig_messages['messages'][-1].content"
   ]
  },
  {
   "cell_type": "code",
   "execution_count": 31,
   "id": "16edd1b7",
   "metadata": {},
   "outputs": [],
   "source": [
    "import json\n",
    "try:\n",
    "    output_testCase_JSON = json.loads(\"{\"+output_testCase_JSON_string)\n",
    "except json.JSONDecodeError as e:\n",
    "    print(f\"AI failed to generate appropriate JSON error: {e}\")\n",
    "with open(path_to_output, \"w\") as file:\n",
    "    json.dump(output_testCase_JSON, file, indent=4)"
   ]
  },
  {
   "cell_type": "code",
   "execution_count": 32,
   "id": "3e9768cd",
   "metadata": {},
   "outputs": [
    {
     "data": {
      "text/plain": [
       "{'Test ID': 'FO-001',\n",
       " 'Requirement ID': 'DEMO-SRS-53',\n",
       " 'Test Case Description': 'Create a new empty document',\n",
       " 'Test Type': 'Functional',\n",
       " 'Test Steps': '1. Launch application\\n2. Select option to create new document\\n3. Verify document is created',\n",
       " 'Preconditions': 'Application is running',\n",
       " 'Expected Result': 'A new empty document is created successfully with default structure',\n",
       " 'Priority': 'High'}"
      ]
     },
     "execution_count": 32,
     "metadata": {},
     "output_type": "execute_result"
    }
   ],
   "source": [
    "output_testCase_JSON['File Operations'][0]"
   ]
  },
  {
   "cell_type": "code",
   "execution_count": null,
   "id": "7bd68a53",
   "metadata": {},
   "outputs": [],
   "source": []
  },
  {
   "cell_type": "code",
   "execution_count": null,
   "id": "38f92aad",
   "metadata": {},
   "outputs": [],
   "source": []
  },
  {
   "cell_type": "code",
   "execution_count": null,
   "id": "9572a698",
   "metadata": {},
   "outputs": [],
   "source": []
  }
 ],
 "metadata": {
  "kernelspec": {
   "display_name": ".venv",
   "language": "python",
   "name": "python3"
  },
  "language_info": {
   "codemirror_mode": {
    "name": "ipython",
    "version": 3
   },
   "file_extension": ".py",
   "mimetype": "text/x-python",
   "name": "python",
   "nbconvert_exporter": "python",
   "pygments_lexer": "ipython3",
   "version": "3.12.8"
  }
 },
 "nbformat": 4,
 "nbformat_minor": 5
}
