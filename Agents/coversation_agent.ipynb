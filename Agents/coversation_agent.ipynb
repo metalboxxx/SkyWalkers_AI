{
 "cells": [
  {
   "cell_type": "code",
   "execution_count": 5,
   "id": "72ad4852",
   "metadata": {},
   "outputs": [],
   "source": [
    "from dotenv import load_dotenv\n",
    "import os\n",
    "\n",
    "from typing import TypedDict, Annotated\n",
    "from langchain_google_genai import ChatGoogleGenerativeAI\n",
    "from langchain_core.messages import AnyMessage, HumanMessage, AIMessage, SystemMessage\n",
    "from langgraph.prebuilt import tools_condition, ToolNode\n",
    "from langgraph.graph import START, END, StateGraph\n",
    "from langgraph.graph.message import add_messages\n",
    "\n",
    "from gen_test_cases import generate_test_cases_from_requirements\n",
    "from gen_requirements import generate_requirement_from_doc \n",
    "\n",
    "load_dotenv()\n",
    "llm_api_key = os.getenv(\"GOOGLE_API_KEY\")"
   ]
  },
  {
   "cell_type": "code",
   "execution_count": 6,
   "id": "c5e9f206",
   "metadata": {},
   "outputs": [],
   "source": [
    "\n",
    "llm = ChatGoogleGenerativeAI(\n",
    "    model=\"gemini-2.5-flash-preview-04-17\",\n",
    "    temperature=0.3,\n",
    "    max_tokens = None,\n",
    "    api_key = llm_api_key,\n",
    ")"
   ]
  },
  {
   "cell_type": "code",
   "execution_count": 7,
   "id": "c412b7c1",
   "metadata": {},
   "outputs": [],
   "source": [
    "class Project():\n",
    "    name: str\n",
    "    description: str\n",
    "    requirements: list\n",
    "    testCases: list\n",
    "\n",
    "class AgentState(TypedDict):\n",
    "    messages: Annotated[list[AnyMessage], add_messages]\n",
    "    projects: list[Project]"
   ]
  },
  {
   "cell_type": "code",
   "execution_count": 8,
   "id": "0207c484",
   "metadata": {},
   "outputs": [
    {
     "ename": "NameError",
     "evalue": "name 'tool' is not defined",
     "output_type": "error",
     "traceback": [
      "\u001b[31m---------------------------------------------------------------------------\u001b[39m",
      "\u001b[31mNameError\u001b[39m                                 Traceback (most recent call last)",
      "\u001b[36mCell\u001b[39m\u001b[36m \u001b[39m\u001b[32mIn[8]\u001b[39m\u001b[32m, line 1\u001b[39m\n\u001b[32m----> \u001b[39m\u001b[32m1\u001b[39m \u001b[38;5;129m@tool\u001b[39m\n\u001b[32m      2\u001b[39m \u001b[38;5;28;01mdef\u001b[39;00m\u001b[38;5;250m \u001b[39m\u001b[34mgenerate_requirements_from_document_pdf_tool\u001b[39m(\n\u001b[32m      3\u001b[39m     x: Annotated[\u001b[38;5;28mstr\u001b[39m, \u001b[33m\"\u001b[39m\u001b[33mbase64 encoded string representation of a pdf file\u001b[39m\u001b[33m\"\u001b[39m],\n\u001b[32m      4\u001b[39m ) -> \u001b[38;5;28mtuple\u001b[39m[\u001b[38;5;28mlist\u001b[39m,\u001b[38;5;28mstr\u001b[39m]:\n\u001b[32m      5\u001b[39m \u001b[38;5;250m    \u001b[39m\u001b[33;03m\"\"\"Creating a brief summary of the document and a list of requirements from the project document in base64 encoded string representation of a pdf file \"\"\"\u001b[39;00m\n\u001b[32m      7\u001b[39m     \u001b[38;5;28;01mreturn\u001b[39;00m generate_requirement_from_doc(x)\n",
      "\u001b[31mNameError\u001b[39m: name 'tool' is not defined"
     ]
    }
   ],
   "source": [
    "@tool\n",
    "def generate_requirements_from_document_pdf_tool(\n",
    "    x: Annotated[str, \"base64 encoded string representation of a pdf file\"],\n",
    ") -> tuple[list,str]:\n",
    "    \"\"\"Creating a brief summary of the document and a list of requirements from the project document in base64 encoded string representation of a pdf file \"\"\"\n",
    "\n",
    "    return generate_requirement_from_doc(x)\n"
   ]
  },
  {
   "cell_type": "code",
   "execution_count": null,
   "id": "88db20d3",
   "metadata": {},
   "outputs": [],
   "source": [
    "@tool\n",
    "def generate_testCases_fromRequirements_tool(\n",
    "    requirements: Annotated[list, \"list of requirements from a project document format in Python list structure\"],\n",
    "    context: Annotated[str, \"Project context of the requirements to better understand them\"]\n",
    ") -> list:\n",
    "    \"\"\"Creating a list of test cases from a list of requirements provided with test case\"\"\"\n",
    "    \n",
    "    return generate_test_cases_from_requirements(requirements, context)"
   ]
  },
  {
   "cell_type": "code",
   "execution_count": null,
   "id": "ea51bb78",
   "metadata": {},
   "outputs": [],
   "source": [
    "\n",
    "tools = [generate_testCases_fromRequirements_tool,generate_requirements_from_document_pdf_tool]\n",
    "llm_with_tools = llm.bind_tools(tools)"
   ]
  },
  {
   "cell_type": "code",
   "execution_count": null,
   "id": "8e33713e",
   "metadata": {},
   "outputs": [],
   "source": [
    "sys_msg = SystemMessage(content=\"You are a helpful assistant tasked with performing QA in SDLC.\")\n",
    "\n",
    "def call_model(state: AgentState):\n",
    "    return {\"messages\": [llm_with_tools.invoke(state{\"messages\"})]}"
   ]
  },
  {
   "cell_type": "code",
   "execution_count": null,
   "id": "83b146f4",
   "metadata": {},
   "outputs": [],
   "source": [
    "builder = StateGraph(AgentState)\n",
    "builder.add_node(\"call_model\", call_model)\n",
    "builder.add_node(\"tools\", ToolNode(tools))\n",
    "\n",
    "builder.add_edge(START,\"call_model\")\n",
    "builder.add_conditional_edges(\n",
    "    \"call_model\",\n",
    "    tools_condition,\n",
    ")\n",
    "builder.add_edge(\"tools\",\"call_model\")\n",
    "builder.add_edge(\"call_model\", END)\n",
    "\n",
    "graph = builder.compile()"
   ]
  },
  {
   "cell_type": "code",
   "execution_count": null,
   "id": "223703c4",
   "metadata": {},
   "outputs": [],
   "source": [
    "graph.invoke({\"messages\": HumanMessage(content=\"Hello\")})"
   ]
  },
  {
   "cell_type": "code",
   "execution_count": null,
   "id": "258b50a6",
   "metadata": {},
   "outputs": [],
   "source": []
  },
  {
   "cell_type": "code",
   "execution_count": null,
   "id": "2409e908",
   "metadata": {},
   "outputs": [],
   "source": []
  },
  {
   "cell_type": "code",
   "execution_count": null,
   "id": "2d026266",
   "metadata": {},
   "outputs": [],
   "source": []
  }
 ],
 "metadata": {
  "kernelspec": {
   "display_name": ".venv",
   "language": "python",
   "name": "python3"
  },
  "language_info": {
   "codemirror_mode": {
    "name": "ipython",
    "version": 3
   },
   "file_extension": ".py",
   "mimetype": "text/x-python",
   "name": "python",
   "nbconvert_exporter": "python",
   "pygments_lexer": "ipython3",
   "version": "3.12.10"
  }
 },
 "nbformat": 4,
 "nbformat_minor": 5
}
