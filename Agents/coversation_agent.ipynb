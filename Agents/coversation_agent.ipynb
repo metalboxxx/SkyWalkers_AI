{
 "cells": [
  {
   "cell_type": "code",
   "execution_count": 1,
   "id": "72ad4852",
   "metadata": {},
   "outputs": [],
   "source": [
    "from dotenv import load_dotenv\n",
    "import os\n",
    "\n",
    "from typing import TypedDict, Annotated\n",
    "from langchain_google_genai import ChatGoogleGenerativeAI\n",
    "from langchain_core.messages import AnyMessage, HumanMessage, AIMessage, SystemMessage, ToolMessage\n",
    "from langgraph.prebuilt import ToolNode, InjectedState\n",
    "from langgraph.graph import START, END, StateGraph\n",
    "from langgraph.graph.message import add_messages\n",
    "from langgraph.types import Command\n",
    "from langchain_core.tools import tool, InjectedToolCallId\n",
    "\n",
    "\n",
    "from gen_test_cases import generate_test_cases_from_requirements\n",
    "from gen_requirements import generate_requirement_from_doc \n",
    "\n",
    "load_dotenv()\n",
    "llm_api_key = os.getenv(\"GOOGLE_API_KEY\")"
   ]
  },
  {
   "cell_type": "code",
   "execution_count": 2,
   "id": "c5e9f206",
   "metadata": {},
   "outputs": [],
   "source": [
    "\n",
    "llm = ChatGoogleGenerativeAI(\n",
    "    model=\"gemini-2.0-flash\",\n",
    "    temperature=0.3,\n",
    "    max_tokens = None,\n",
    "    api_key = llm_api_key,\n",
    ")"
   ]
  },
  {
   "cell_type": "code",
   "execution_count": null,
   "id": "c412b7c1",
   "metadata": {},
   "outputs": [],
   "source": [
    "class AgentState(TypedDict):\n",
    "    messages: Annotated[list[AnyMessage], add_messages]\n",
    "    project_name: str\n",
    "    summary: str\n",
    "    description: str\n",
    "    requirements: list\n",
    "    testCases: list\n"
   ]
  },
  {
   "cell_type": "code",
   "execution_count": 4,
   "id": "0207c484",
   "metadata": {},
   "outputs": [],
   "source": [
    "@tool\n",
    "def generate_requirements_from_document_pdf_tool(\n",
    "    x: Annotated[str, \"base64 encoded string representation of a pdf file\"],\n",
    "    tool_call_id: Annotated[str, InjectedToolCallId]\n",
    ") -> Command:\n",
    "    \"\"\"Creating a brief summary of the document and a list of requirements from the project document in base64 encoded string representation of a pdf file \"\"\"\n",
    "    requirements, summary = generate_requirement_from_doc(x)\n",
    "    return Command(update={\n",
    "        \"summary\": summary,\n",
    "        \"requirements\": requirements,\n",
    "        \"messages\": [\n",
    "            ToolMessage(\n",
    "                \"Successfully created requirements from the document\",\n",
    "                tool_call_id=tool_call_id\n",
    "            )\n",
    "        ]\n",
    "    })\n"
   ]
  },
  {
   "cell_type": "code",
   "execution_count": 5,
   "id": "88db20d3",
   "metadata": {},
   "outputs": [],
   "source": [
    "@tool\n",
    "def generate_testCases_fromRequirements_tool(\n",
    "    state: Annotated[AgentState, InjectedState],\n",
    "    tool_call_id: Annotated[str, InjectedToolCallId]\n",
    ") -> Command:\n",
    "    \"\"\"Creating a list of test cases from a list of requirements provided with test case\"\"\"\n",
    "    requirements = state.get('requirements')\n",
    "    context = state.get('summary')\n",
    "    if not requirements or not context:\n",
    "        return Command(update={\n",
    "            \"messages\": [\n",
    "            ToolMessage(\n",
    "                \"Requirements or Context missing\",\n",
    "                tool_call_id=tool_call_id\n",
    "            )\n",
    "        ]\n",
    "    })\n",
    "    testCases_dict = generate_test_cases_from_requirements(requirements, context)\n",
    "    return Command(update={\n",
    "        \"testCases\": testCases_dict,\n",
    "        \"messages\": [\n",
    "            ToolMessage(\n",
    "                \"Successfully created test cases from the requirements\",\n",
    "                tool_call_id=tool_call_id\n",
    "            )\n",
    "        ]\n",
    "    })"
   ]
  },
  {
   "cell_type": "code",
   "execution_count": 6,
   "id": "ea51bb78",
   "metadata": {},
   "outputs": [],
   "source": [
    "\n",
    "tools = [generate_testCases_fromRequirements_tool,generate_requirements_from_document_pdf_tool]\n",
    "llm_with_tools = llm.bind_tools(tools)"
   ]
  },
  {
   "cell_type": "code",
   "execution_count": null,
   "id": "8e33713e",
   "metadata": {},
   "outputs": [],
   "source": [
    "\n",
    "def call_model(state: AgentState):\n",
    "    return {\"messages\": [llm_with_tools.invoke(state[\"messages\"])]}"
   ]
  },
  {
   "cell_type": "code",
   "execution_count": 8,
   "id": "3a0c05b7",
   "metadata": {},
   "outputs": [],
   "source": [
    "def custom_tool_condition(state: AgentState):\n",
    "    messages = state[\"messages\"]\n",
    "    last_message = messages[-1]\n",
    "    if isinstance(last_message, AIMessage) and last_message.tool_calls:\n",
    "        return \"tools_node\"\n",
    "    return \"call_model\""
   ]
  },
  {
   "cell_type": "code",
   "execution_count": 9,
   "id": "83b146f4",
   "metadata": {},
   "outputs": [],
   "source": [
    "builder = StateGraph(AgentState)\n",
    "builder.add_node(\"call_model\", call_model)\n",
    "builder.add_node(\"tools_node\", ToolNode(tools))\n",
    "\n",
    "builder.add_edge(START,\"call_model\")\n",
    "builder.add_conditional_edges(\n",
    "    \"call_model\",\n",
    "    custom_tool_condition,\n",
    ")\n",
    "builder.add_edge(\"tools_node\",\"call_model\")\n",
    "builder.add_edge(\"call_model\", END)\n",
    "\n",
    "graph = builder.compile()"
   ]
  },
  {
   "cell_type": "code",
   "execution_count": null,
   "id": "223703c4",
   "metadata": {},
   "outputs": [
    {
     "name": "stdout",
     "output_type": "stream",
     "text": [
      "{'messages': [SystemMessage(content='You are a helpful assistant tasked with performing QA in SDLC.', additional_kwargs={}, response_metadata={}), HumanMessage(content='hello', additional_kwargs={}, response_metadata={})]}\n"
     ]
    }
   ],
   "source": [
    "#Initialize state by loading a project and its info (if any)\n",
    "currState = AgentState(messages=[SystemMessage(content=\"You are a helpful assistant tasked with performing QA in SDLC.\")],\n",
    "                       project_name=\"QA_automation\")\n",
    "# Get user Input\n",
    "userInputContent = \"hello\"\n",
    "\n",
    "# Actually run\n",
    "currState = {\"messages\":currState[\"messages\"]+[(HumanMessage(content=userInputContent))]}\n",
    "print(currState)\n",
    "graph.invoke(currState)"
   ]
  },
  {
   "cell_type": "code",
   "execution_count": null,
   "id": "258b50a6",
   "metadata": {},
   "outputs": [],
   "source": []
  },
  {
   "cell_type": "code",
   "execution_count": null,
   "id": "2409e908",
   "metadata": {},
   "outputs": [],
   "source": []
  },
  {
   "cell_type": "code",
   "execution_count": null,
   "id": "2d026266",
   "metadata": {},
   "outputs": [],
   "source": []
  }
 ],
 "metadata": {
  "kernelspec": {
   "display_name": ".venv",
   "language": "python",
   "name": "python3"
  },
  "language_info": {
   "codemirror_mode": {
    "name": "ipython",
    "version": 3
   },
   "file_extension": ".py",
   "mimetype": "text/x-python",
   "name": "python",
   "nbconvert_exporter": "python",
   "pygments_lexer": "ipython3",
   "version": "3.12.10"
  }
 },
 "nbformat": 4,
 "nbformat_minor": 5
}
