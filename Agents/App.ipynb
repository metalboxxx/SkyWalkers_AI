{
 "cells": [
  {
   "cell_type": "code",
   "execution_count": 1,
   "id": "02ada056",
   "metadata": {},
   "outputs": [],
   "source": [
    "from conversation_agent import call_conversation_model, AgentState\n",
    "from typing import TypedDict, Annotated, Optional\n",
    "from langchain_core.messages import AnyMessage, HumanMessage, AIMessage, SystemMessage, ToolMessage\n",
    "from langgraph.graph.message import add_messages\n",
    "\n"
   ]
  },
  {
   "cell_type": "code",
   "execution_count": 2,
   "id": "a9b2acd2",
   "metadata": {},
   "outputs": [],
   "source": [
    "\n",
    "#Initialize state by loading a project and its info (if any)\n",
    "with open(r\"..\\Prompts\\main_system_prompt.txt\",\"r\") as f:\n",
    "    main_system_prompt = f.read()\n",
    "currState = AgentState(messages=[SystemMessage(content=main_system_prompt)],\n",
    "                       project_name=\"QA_automation\",\n",
    "                       testCases=[])"
   ]
  },
  {
   "cell_type": "code",
   "execution_count": 18,
   "id": "3a6aeebc",
   "metadata": {},
   "outputs": [],
   "source": [
    "tempt_pdf_path = '../ReqView-Example_Software_Requirements_Specification_SRS_Document-3-5.pdf'\n",
    "\n",
    "currState = call_conversation_model(currState,'i want to congratulate you')"
   ]
  },
  {
   "cell_type": "code",
   "execution_count": 21,
   "id": "bab3bac1",
   "metadata": {},
   "outputs": [
    {
     "data": {
      "text/plain": [
       "{'Test ID': 'TC-004',\n",
       " 'Requirement ID': 'REQ-001',\n",
       " 'Category': 'Technical',\n",
       " 'Test Case Description': 'Verify application runs in Firefox on Linux',\n",
       " 'Test Type': 'Compatibility',\n",
       " 'Test Steps': '1. Install latest Firefox on Linux\\n2. Launch the application\\n3. Verify specific UI elements load correctly: menus, toolbars, buttons, panes, containers, and grids\\n4. Perform basic operations (create, save, open document)',\n",
       " 'Preconditions': 'Latest Firefox browser installed on Linux',\n",
       " 'Expected Result': 'Application launches and functions correctly in Firefox on Linux with all UI elements properly rendered and responsive',\n",
       " 'Priority': 'High'}"
      ]
     },
     "execution_count": 21,
     "metadata": {},
     "output_type": "execute_result"
    }
   ],
   "source": [
    "currState['testCases'][3]"
   ]
  }
 ],
 "metadata": {
  "kernelspec": {
   "display_name": ".venv",
   "language": "python",
   "name": "python3"
  },
  "language_info": {
   "codemirror_mode": {
    "name": "ipython",
    "version": 3
   },
   "file_extension": ".py",
   "mimetype": "text/x-python",
   "name": "python",
   "nbconvert_exporter": "python",
   "pygments_lexer": "ipython3",
   "version": "3.12.8"
  }
 },
 "nbformat": 4,
 "nbformat_minor": 5
}
