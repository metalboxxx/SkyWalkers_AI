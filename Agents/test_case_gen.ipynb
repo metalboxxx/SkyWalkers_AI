{
 "cells": [
  {
   "cell_type": "code",
   "execution_count": null,
   "id": "19a348fc",
   "metadata": {},
   "outputs": [
    {
     "name": "stderr",
     "output_type": "stream",
     "text": [
      "<>:11: SyntaxWarning: invalid escape sequence '\\R'\n",
      "<>:11: SyntaxWarning: invalid escape sequence '\\R'\n",
      "C:\\Users\\intern.nhmkhang\\AppData\\Local\\Temp\\ipykernel_20256\\2338136951.py:11: SyntaxWarning: invalid escape sequence '\\R'\n",
      "  path_to_pdf = \"..\\ReqView-Example_Software_Requirements_Specification_SRS_Document.pdf\"\n"
     ]
    }
   ],
   "source": [
    "from dotenv import load_dotenv\n",
    "import os\n",
    "\n",
    "load_dotenv()\n",
    "\n",
    "llm_api_key = os.getenv(\"ANTHROPIC_API_KEY\")\n",
    "api_max_tokens = 64000\n",
    "\n",
    "\n",
    "path_to_initPrompt_1 = r\"..\\Prompts\\initial_prompt_1.txt\"\n",
    "path_to_pdf = r\"..\\ReqView-Example_Software_Requirements_Specification_SRS_Document.pdf\"\n",
    "path_to_initPrompt_2 = r\"..\\Prompts\\initial_prompt_2.txt\"\n",
    "path_to_reflectionPrompt = r\"..\\Prompts\\reflection_prompt.txt\"\n",
    "path_to_finalPrompt = r\"..\\Prompts\\final_prompt.txt\"\n",
    "\n",
    "path_to_output = r\"..\\Outputs\\output_test_matrix.json\""
   ]
  },
  {
   "cell_type": "code",
   "execution_count": null,
   "id": "572133b5",
   "metadata": {},
   "outputs": [],
   "source": [
    "from langchain_anthropic import ChatOpenAi\n",
    "\n",
    "llm = ChatAnthropic(\n",
    "    model=\"claude-3-7-sonnet-latest\",\n",
    "    temperature = 0.3,\n",
    "    max_tokens = api_max_tokens,\n",
    "    api_key = llm_api_key\n",
    ")"
   ]
  },
  {
   "cell_type": "code",
   "execution_count": 14,
   "id": "eb267d73",
   "metadata": {},
   "outputs": [],
   "source": [
    "from typing import TypedDict, Annotated\n",
    "from langchain_core.messages import AnyMessage\n",
    "from langgraph.graph.message import add_messages\n",
    "\n",
    "class AgentState(TypedDict):\n",
    "    messages: Annotated[list[AnyMessage], add_messages]\n"
   ]
  },
  {
   "cell_type": "code",
   "execution_count": 4,
   "id": "97cde03c",
   "metadata": {},
   "outputs": [
    {
     "ename": "FileNotFoundError",
     "evalue": "[Errno 2] No such file or directory: 'Prompts\\\\initial_prompt_1.txt'",
     "output_type": "error",
     "traceback": [
      "\u001b[31m---------------------------------------------------------------------------\u001b[39m",
      "\u001b[31mFileNotFoundError\u001b[39m                         Traceback (most recent call last)",
      "\u001b[36mCell\u001b[39m\u001b[36m \u001b[39m\u001b[32mIn[4]\u001b[39m\u001b[32m, line 7\u001b[39m\n\u001b[32m      4\u001b[39m \u001b[38;5;28;01mwith\u001b[39;00m \u001b[38;5;28mopen\u001b[39m(path_to_pdf, \u001b[33m\"\u001b[39m\u001b[33mrb\u001b[39m\u001b[33m\"\u001b[39m) \u001b[38;5;28;01mas\u001b[39;00m f:\n\u001b[32m      5\u001b[39m     pdf_data = base64.standard_b64encode(f.read()).decode(\u001b[33m\"\u001b[39m\u001b[33mutf-8\u001b[39m\u001b[33m\"\u001b[39m)\n\u001b[32m----> \u001b[39m\u001b[32m7\u001b[39m \u001b[38;5;28;01mwith\u001b[39;00m \u001b[38;5;28;43mopen\u001b[39;49m\u001b[43m(\u001b[49m\u001b[43mpath_to_initPrompt_1\u001b[49m\u001b[43m,\u001b[49m\u001b[33;43m\"\u001b[39;49m\u001b[33;43mr\u001b[39;49m\u001b[33;43m\"\u001b[39;49m\u001b[43m)\u001b[49m \u001b[38;5;28;01mas\u001b[39;00m f:\n\u001b[32m      8\u001b[39m     initPrompt_1 = f.read()\n\u001b[32m     10\u001b[39m \u001b[38;5;28;01mwith\u001b[39;00m \u001b[38;5;28mopen\u001b[39m(path_to_initPrompt_2,\u001b[33m\"\u001b[39m\u001b[33mr\u001b[39m\u001b[33m\"\u001b[39m) \u001b[38;5;28;01mas\u001b[39;00m f:\n",
      "\u001b[36mFile \u001b[39m\u001b[32mc:\\Users\\intern.nhmkhang\\AI Root Folder\\.venv\\Lib\\site-packages\\IPython\\core\\interactiveshell.py:326\u001b[39m, in \u001b[36m_modified_open\u001b[39m\u001b[34m(file, *args, **kwargs)\u001b[39m\n\u001b[32m    319\u001b[39m \u001b[38;5;28;01mif\u001b[39;00m file \u001b[38;5;129;01min\u001b[39;00m {\u001b[32m0\u001b[39m, \u001b[32m1\u001b[39m, \u001b[32m2\u001b[39m}:\n\u001b[32m    320\u001b[39m     \u001b[38;5;28;01mraise\u001b[39;00m \u001b[38;5;167;01mValueError\u001b[39;00m(\n\u001b[32m    321\u001b[39m         \u001b[33mf\u001b[39m\u001b[33m\"\u001b[39m\u001b[33mIPython won\u001b[39m\u001b[33m'\u001b[39m\u001b[33mt let you open fd=\u001b[39m\u001b[38;5;132;01m{\u001b[39;00mfile\u001b[38;5;132;01m}\u001b[39;00m\u001b[33m by default \u001b[39m\u001b[33m\"\u001b[39m\n\u001b[32m    322\u001b[39m         \u001b[33m\"\u001b[39m\u001b[33mas it is likely to crash IPython. If you know what you are doing, \u001b[39m\u001b[33m\"\u001b[39m\n\u001b[32m    323\u001b[39m         \u001b[33m\"\u001b[39m\u001b[33myou can use builtins\u001b[39m\u001b[33m'\u001b[39m\u001b[33m open.\u001b[39m\u001b[33m\"\u001b[39m\n\u001b[32m    324\u001b[39m     )\n\u001b[32m--> \u001b[39m\u001b[32m326\u001b[39m \u001b[38;5;28;01mreturn\u001b[39;00m \u001b[43mio_open\u001b[49m\u001b[43m(\u001b[49m\u001b[43mfile\u001b[49m\u001b[43m,\u001b[49m\u001b[43m \u001b[49m\u001b[43m*\u001b[49m\u001b[43margs\u001b[49m\u001b[43m,\u001b[49m\u001b[43m \u001b[49m\u001b[43m*\u001b[49m\u001b[43m*\u001b[49m\u001b[43mkwargs\u001b[49m\u001b[43m)\u001b[49m\n",
      "\u001b[31mFileNotFoundError\u001b[39m: [Errno 2] No such file or directory: 'Prompts\\\\initial_prompt_1.txt'"
     ]
    }
   ],
   "source": [
    "## content_prompt_initial\n",
    "import base64\n",
    "\n",
    "with open(path_to_pdf, \"rb\") as f:\n",
    "    pdf_data = base64.standard_b64encode(f.read()).decode(\"utf-8\")\n",
    "\n",
    "with open(path_to_initPrompt_1,\"r\") as f:\n",
    "    initPrompt_1 = f.read()\n",
    "\n",
    "with open(path_to_initPrompt_2,\"r\") as f:\n",
    "    initPrompt_2 = f.read()\n",
    "    \n",
    "content_prompt_initial = [\n",
    "                {\n",
    "                    \"type\": \"text\",\n",
    "                    \"text\": initPrompt_1\n",
    "                },\n",
    "                {\n",
    "                    \"type\": \"document\",\n",
    "                    \"source\": {\n",
    "                        \"type\": \"base64\",\n",
    "                        \"media_type\": \"application/pdf\",\n",
    "                        \"data\": pdf_data\n",
    "                    },\n",
    "                    \"cache_control\": {\"type\": \"ephemeral\"}\n",
    "                },\n",
    "                {\n",
    "                    \"type\": \"text\",\n",
    "                    \"text\": initPrompt_2\n",
    "                }\n",
    "            ]"
   ]
  },
  {
   "cell_type": "code",
   "execution_count": 16,
   "id": "ce4c575e",
   "metadata": {},
   "outputs": [],
   "source": [
    "## content_prompt_reflection\n",
    "with open(path_to_reflectionPrompt,\"r\") as f:\n",
    "    reflectionPrompt = f.read()\n",
    "\n",
    "content_prompt_reflection = [\n",
    "                {\n",
    "                    \"type\": \"text\",\n",
    "                    \"text\": reflectionPrompt\n",
    "                }\n",
    "            ]"
   ]
  },
  {
   "cell_type": "code",
   "execution_count": 17,
   "id": "565d3797",
   "metadata": {},
   "outputs": [],
   "source": [
    "## content_prompt_final\n",
    "with open(path_to_finalPrompt,\"r\") as f:\n",
    "    finalPrompt = f.read()\n",
    "content_prompt_final = [\n",
    "                {\n",
    "                    \"type\": \"text\",\n",
    "                    \"text\": finalPrompt\n",
    "                }\n",
    "            ]"
   ]
  },
  {
   "cell_type": "code",
   "execution_count": 18,
   "id": "1984ec4f",
   "metadata": {},
   "outputs": [],
   "source": [
    "from langchain_core.messages import AIMessage, HumanMessage\n",
    "\n",
    "def write_initial_draft(state: AgentState):\n",
    "    model_response = llm.invoke([HumanMessage(content=content_prompt_initial)])\n",
    "    \n",
    "    return {\"messages\": [HumanMessage(content=content_prompt_initial), model_response]}\n",
    "    "
   ]
  },
  {
   "cell_type": "code",
   "execution_count": 19,
   "id": "bf3624a8",
   "metadata": {},
   "outputs": [],
   "source": [
    "def write_reflection(state: AgentState):\n",
    "    prompt_messages = state['messages'] + [HumanMessage(content=content_prompt_reflection)] \n",
    "    model_response = llm.invoke(prompt_messages)\n",
    "\n",
    "    return{\"messages\": [HumanMessage(content=content_prompt_reflection), model_response]}"
   ]
  },
  {
   "cell_type": "code",
   "execution_count": 20,
   "id": "f0aa6dc9",
   "metadata": {},
   "outputs": [],
   "source": [
    "def write_final(state: AgentState):\n",
    "    prompt_messages = state['messages'] + [HumanMessage(content=content_prompt_final)] +  [AIMessage(content=\"{\")]\n",
    "    ## The AIMessage { is to tell Claude to only create JSON\n",
    "    model_response = llm.invoke(prompt_messages)\n",
    "\n",
    "    return{\"messages\":[HumanMessage(content=content_prompt_final), model_response]}"
   ]
  },
  {
   "cell_type": "code",
   "execution_count": 21,
   "id": "8c4d337a",
   "metadata": {},
   "outputs": [],
   "source": [
    "from langgraph.graph import StateGraph, START, END\n",
    "\n",
    "builder = StateGraph(AgentState)\n",
    "builder.add_node(write_initial_draft, \"write_initial_draft\")\n",
    "builder.add_node(write_reflection, \"write_reflection\")\n",
    "builder.add_node(write_final, \"write_final\")\n",
    "\n",
    "builder.add_edge(START, \"write_initial_draft\")\n",
    "builder.add_edge(\"write_initial_draft\",\"write_reflection\")\n",
    "builder.add_edge(\"write_reflection\",\"write_final\")\n",
    "builder.add_edge(\"write_final\",END)\n",
    "\n",
    "graph = builder.compile()"
   ]
  },
  {
   "cell_type": "code",
   "execution_count": null,
   "id": "b32cf66a",
   "metadata": {},
   "outputs": [],
   "source": [
    "langchainConfig_messages = graph.invoke({\"messages\": []})\n",
    "langchainConfig_messages['messages'][-1].response_metadata"
   ]
  },
  {
   "cell_type": "code",
   "execution_count": null,
   "id": "c3795ef2",
   "metadata": {},
   "outputs": [],
   "source": [
    "import json\n",
    "\n",
    "output_testCase_JSON_string = langchainConfig_messages['messages'][-1].content"
   ]
  },
  {
   "cell_type": "code",
   "execution_count": 31,
   "id": "16edd1b7",
   "metadata": {},
   "outputs": [],
   "source": [
    "import json\n",
    "try:\n",
    "    output_testCase_JSON = json.loads(\"{\"+output_testCase_JSON_string)\n",
    "except json.JSONDecodeError as e:\n",
    "    print(f\"AI failed to generate appropriate JSON error: {e}\")\n",
    "with open(path_to_output, \"w\") as file:\n",
    "    json.dump(output_testCase_JSON, file, indent=4)"
   ]
  },
  {
   "cell_type": "code",
   "execution_count": 32,
   "id": "3e9768cd",
   "metadata": {},
   "outputs": [
    {
     "data": {
      "text/plain": [
       "{'Test ID': 'FO-001',\n",
       " 'Requirement ID': 'DEMO-SRS-53',\n",
       " 'Test Case Description': 'Create a new empty document',\n",
       " 'Test Type': 'Functional',\n",
       " 'Test Steps': '1. Launch application\\n2. Select option to create new document\\n3. Verify document is created',\n",
       " 'Preconditions': 'Application is running',\n",
       " 'Expected Result': 'A new empty document is created successfully with default structure',\n",
       " 'Priority': 'High'}"
      ]
     },
     "execution_count": 32,
     "metadata": {},
     "output_type": "execute_result"
    }
   ],
   "source": [
    "output_testCase_JSON['File Operations'][0]"
   ]
  },
  {
   "cell_type": "code",
   "execution_count": null,
   "id": "7bd68a53",
   "metadata": {},
   "outputs": [],
   "source": []
  },
  {
   "cell_type": "code",
   "execution_count": null,
   "id": "38f92aad",
   "metadata": {},
   "outputs": [],
   "source": []
  },
  {
   "cell_type": "code",
   "execution_count": null,
   "id": "9572a698",
   "metadata": {},
   "outputs": [],
   "source": []
  }
 ],
 "metadata": {
  "kernelspec": {
   "display_name": ".venv",
   "language": "python",
   "name": "python3"
  },
  "language_info": {
   "codemirror_mode": {
    "name": "ipython",
    "version": 3
   },
   "file_extension": ".py",
   "mimetype": "text/x-python",
   "name": "python",
   "nbconvert_exporter": "python",
   "pygments_lexer": "ipython3",
   "version": "3.12.10"
  }
 },
 "nbformat": 4,
 "nbformat_minor": 5
}
