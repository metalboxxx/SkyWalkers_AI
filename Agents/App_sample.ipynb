{
 "cells": [
  {
   "cell_type": "code",
   "execution_count": 2,
   "id": "02ada056",
   "metadata": {},
   "outputs": [],
   "source": [
    "from conversation_agent import call_conversation_model, AgentState\n",
    "from typing import TypedDict, Annotated, Optional\n",
    "from langchain_core.messages import AnyMessage, HumanMessage, AIMessage, SystemMessage, ToolMessage\n",
    "from langgraph.graph.message import add_messages\n",
    "\n"
   ]
  },
  {
   "cell_type": "code",
   "execution_count": 3,
   "id": "a9b2acd2",
   "metadata": {},
   "outputs": [],
   "source": [
    "\n",
    "#Initialize state by loading a project and its info (if any)\n",
    "with open(r\"..\\Prompts\\main_system_prompt.txt\",\"r\") as f:\n",
    "    main_system_prompt = f.read()\n",
    "currState = AgentState(messages=[SystemMessage(content=main_system_prompt)],\n",
    "                       project_name=\"QA_automation\",\n",
    "                       testCases=[])"
   ]
  },
  {
   "cell_type": "code",
   "execution_count": 25,
   "id": "3a6aeebc",
   "metadata": {},
   "outputs": [],
   "source": [
    "tempt_pdf_path = '../ReqView-Example_Software_Requirements_Specification_SRS_Document-3-5.pdf'\n",
    "\n",
    "currState = call_conversation_model(currState,'ok')"
   ]
  },
  {
   "cell_type": "code",
   "execution_count": 27,
   "id": "bab3bac1",
   "metadata": {},
   "outputs": [
    {
     "data": {
      "text/plain": [
       "[{'ID': 'REQ-001',\n",
       "  'Description': 'The application shall run in the latest version of Chrome or Firefox browser on Windows, Linux and Mac.',\n",
       "  'Category': 'Technical',\n",
       "  'Dependency': 'N/A'},\n",
       " {'ID': 'REQ-002',\n",
       "  'Description': 'The application shall provide a GUI with menus, toolbars, buttons, panes, containers, and grids for keyboard and mouse control.',\n",
       "  'Category': 'User',\n",
       "  'Dependency': 'N/A'},\n",
       " {'ID': 'REQ-003',\n",
       "  'Description': 'The application shall allow users to capture and manage requirements specifications.',\n",
       "  'Category': 'Functional',\n",
       "  'Dependency': 'N/A'},\n",
       " {'ID': 'REQ-004',\n",
       "  'Description': 'The application shall support custom attributes for capturing additional requirement properties (source, status, priority, verification method, fit criterion, etc.).',\n",
       "  'Category': 'Functional',\n",
       "  'Dependency': 'REQ-003'},\n",
       " {'ID': 'REQ-005',\n",
       "  'Description': 'The application shall support requirements traceability with directed associations (links) between related requirements.',\n",
       "  'Category': 'Functional',\n",
       "  'Dependency': 'REQ-003'},\n",
       " {'ID': 'REQ-006',\n",
       "  'Description': 'The application shall allow users to browse the requirements traceability matrix.',\n",
       "  'Category': 'Functional',\n",
       "  'Dependency': 'REQ-005'},\n",
       " {'ID': 'REQ-007',\n",
       "  'Description': 'The application shall allow users to comment and review requirements.',\n",
       "  'Category': 'Functional',\n",
       "  'Dependency': 'REQ-003'},\n",
       " {'ID': 'REQ-008',\n",
       "  'Description': 'The application shall allow users to filter and search requirements.',\n",
       "  'Category': 'Functional',\n",
       "  'Dependency': 'REQ-003'},\n",
       " {'ID': 'REQ-009',\n",
       "  'Description': 'The application shall support importing requirements from MS Word, Excel, and PowerPoint files.',\n",
       "  'Category': 'Functional',\n",
       "  'Dependency': 'N/A'},\n",
       " {'ID': 'REQ-010',\n",
       "  'Description': 'The application shall support exporting requirements to multiple formats (DOCX, XLSX, PDF, HTML, CSV).',\n",
       "  'Category': 'Functional',\n",
       "  'Dependency': 'REQ-003'},\n",
       " {'ID': 'REQ-011',\n",
       "  'Description': 'The application shall allow users to analyze requirements coverage and impact of changes.',\n",
       "  'Category': 'Functional',\n",
       "  'Dependency': 'REQ-003, REQ-005'},\n",
       " {'ID': 'REQ-012',\n",
       "  'Description': 'The application shall allow users to print requirements specifications.',\n",
       "  'Category': 'Functional',\n",
       "  'Dependency': 'REQ-003'},\n",
       " {'ID': 'REQ-013',\n",
       "  'Description': 'The application shall store documents as human readable files with open file format.',\n",
       "  'Category': 'Technical',\n",
       "  'Dependency': 'N/A'},\n",
       " {'ID': 'REQ-014',\n",
       "  'Description': 'The application shall run offline without connection to any server.',\n",
       "  'Category': 'Technical',\n",
       "  'Dependency': 'N/A'},\n",
       " {'ID': 'REQ-015',\n",
       "  'Description': 'The application shall import structured MS Word documents via HTML data format.',\n",
       "  'Category': 'Technical',\n",
       "  'Dependency': 'REQ-009'},\n",
       " {'ID': 'REQ-016',\n",
       "  'Description': 'The application shall allow populating MS Word documents with project data via HTML data format.',\n",
       "  'Category': 'Technical',\n",
       "  'Dependency': 'REQ-010'},\n",
       " {'ID': 'REQ-017',\n",
       "  'Description': 'The application shall import/export requirements from/to MS Excel sheets via CSV data format.',\n",
       "  'Category': 'Technical',\n",
       "  'Dependency': 'REQ-009, REQ-010'},\n",
       " {'ID': 'REQ-018',\n",
       "  'Description': 'The application shall store project data in JSON format to enable easy integration with 3rd party applications.',\n",
       "  'Category': 'Technical',\n",
       "  'Dependency': 'REQ-013'},\n",
       " {'ID': 'REQ-019',\n",
       "  'Description': 'The application shall support link types with different semantics (e.g., satisfaction and verification links).',\n",
       "  'Category': 'Functional',\n",
       "  'Dependency': 'REQ-005'},\n",
       " {'ID': 'REQ-020',\n",
       "  'Description': 'The application shall comply with the ISO/IEC/IEEE 29148:2018 standard for requirements specifications.',\n",
       "  'Category': 'Non-Functional',\n",
       "  'Dependency': 'N/A'},\n",
       " {'ID': 'REQ-021',\n",
       "  'Description': 'The application shall support structured requirements specifications for products or services.',\n",
       "  'Category': 'Functional',\n",
       "  'Dependency': 'REQ-003'},\n",
       " {'ID': 'REQ-022',\n",
       "  'Description': 'The application shall have appropriate error handling for import/export operations.',\n",
       "  'Category': 'Non-Functional',\n",
       "  'Dependency': 'REQ-009, REQ-010'},\n",
       " {'ID': 'REQ-023',\n",
       "  'Description': 'The application shall maintain data integrity during all operations.',\n",
       "  'Category': 'Non-Functional',\n",
       "  'Dependency': 'N/A'},\n",
       " {'ID': 'REQ-024',\n",
       "  'Description': 'The application shall provide user feedback for long-running operations.',\n",
       "  'Category': 'User',\n",
       "  'Dependency': 'REQ-002'},\n",
       " {'ID': 'REQ-025',\n",
       "  'Description': 'The application shall support undo/redo functionality for user actions.',\n",
       "  'Category': 'Functional',\n",
       "  'Dependency': 'N/A'}]"
      ]
     },
     "execution_count": 27,
     "metadata": {},
     "output_type": "execute_result"
    }
   ],
   "source": [
    "currState['requirements']"
   ]
  }
 ],
 "metadata": {
  "kernelspec": {
   "display_name": ".venv",
   "language": "python",
   "name": "python3"
  },
  "language_info": {
   "codemirror_mode": {
    "name": "ipython",
    "version": 3
   },
   "file_extension": ".py",
   "mimetype": "text/x-python",
   "name": "python",
   "nbconvert_exporter": "python",
   "pygments_lexer": "ipython3",
   "version": "3.12.8"
  }
 },
 "nbformat": 4,
 "nbformat_minor": 5
}
