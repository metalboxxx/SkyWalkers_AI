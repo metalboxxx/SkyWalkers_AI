{
 "cells": [
  {
   "cell_type": "code",
   "execution_count": 1,
   "id": "02ada056",
   "metadata": {},
   "outputs": [],
   "source": [
    "from conversation_agent import call_conversation_model, AgentState\n",
    "from typing import TypedDict, Annotated, Optional\n",
    "from langchain_core.messages import AnyMessage, HumanMessage, AIMessage, SystemMessage, ToolMessage\n",
    "from langgraph.graph.message import add_messages\n",
    "\n"
   ]
  },
  {
   "cell_type": "code",
   "execution_count": 2,
   "id": "a9b2acd2",
   "metadata": {},
   "outputs": [],
   "source": [
    "\n",
    "#Initialize state by loading a project and its info (if any)\n",
    "with open(r\"..\\Prompts\\main_system_prompt.txt\",\"r\") as f:\n",
    "    main_system_prompt = f.read()\n",
    "currState = AgentState(messages=[SystemMessage(content=main_system_prompt)],\n",
    "                       project_name=\"QA_automation\",\n",
    "                       testCases=[])"
   ]
  },
  {
   "cell_type": "code",
   "execution_count": 12,
   "id": "3a6aeebc",
   "metadata": {},
   "outputs": [],
   "source": [
    "tempt_pdf_path = '../ReqView-Example_Software_Requirements_Specification_SRS_Document-3-5.pdf'\n",
    "\n",
    "currState = call_conversation_model(currState,'find me the req-002')"
   ]
  },
  {
   "cell_type": "code",
   "execution_count": 13,
   "id": "bab3bac1",
   "metadata": {},
   "outputs": [
    {
     "data": {
      "text/plain": [
       "[SystemMessage(content='You are a dedicated QA testing assistant working throughout the Software Development Life Cycle. Your role is to help a QA tester by processing project documents and transforming them into actionable insights \\n\\nHere are some information you need to know:\\n\\nThe test cycle is completed in these sequential steps:\\n1.Document â†’ Requirements: Extract project requirements from a PDF document.\\n2.Requirements â†’ Test Cases: Generate test cases based on the extracted requirements.\\n\\nYour state is maintained as a Python dictionary with the following attributes:\\n- messages: A list of communications (including success messages, error messages, and tool call logs).\\n- project_name: The name of the project.\\n- context: The document summary extracted from the PDF. (Always use \"context\" for the summary, not \"summary.\")\\n- requirements: A list of requirements extracted from the project document.\\n- testCases: A list of test cases generated from the requirements.\\n\\nYou have access to two primary tools:\\n\\n1. PDF Requirements Extraction Tool (generate_requirements_from_document_pdf_tool):\\nInput Parameter:\\nx: The path to the pdf document from which the tool will generate requirements\\n - Decodes the PDF to extract a concise summary and a structured list of project requirements.\\n - Updates state[\"context\"] with the extracted summary.\\n - Updates state[\"requirements\"] with the list of requirements.\\n - Appends a success message to state[\"messages\"].\\n\\n2. Test Cases Generation Tool (generate_testCases_fromRequirements_tool):\\nInput:\\nUses state[\"requirements\"] and state[\"context\"].\\nBehavior:\\n - First, validates that both requirements and context are present. If either is missing, returns an error message stating \"Requirements or Context missing.\"\\n - If the necessary data is present, generates structured test cases.\\n - Updates state[\"testCases\"] with the generated test cases.\\n - Appends a success message to state[\"messages\"].\\n\\nYour General Behavioral Guidelines:\\n - Accuracy: Always reference state attributes precisely.\\n - Sequential Execution: Adhere to the process order. Call the correct tools chronologically.\\n - User Confirmation: Before calling any tools, ask the user for confirmation and execute only when you have confirmation.\\n - Clean messages: Do not tell the user of the your inner workings such as state. Ask simple straight questions and answer simply and concisely as well\\n - State Reintegration: After each tool invocation, ensure the updated state is reintegrated for further processing.\\n - Operate methodically and accurately to support the QA tester in validating project requirements and generating comprehensive test cases.', additional_kwargs={}, response_metadata={}, id='dc0998c5-b447-4417-963f-8226b04c40b7'),\n",
       " HumanMessage(content='hi', additional_kwargs={}, response_metadata={}, id='c3ac8da2-3ff7-47cf-a8a1-ed035588bdd8'),\n",
       " AIMessage(content='Hello! I am ready to assist you with your QA testing needs. To start, please provide the PDF document containing the project requirements.', additional_kwargs={}, response_metadata={'prompt_feedback': {'block_reason': 0, 'safety_ratings': []}, 'finish_reason': 'STOP', 'model_name': 'gemini-2.0-flash', 'safety_ratings': []}, id='run--83004c0d-0d0c-43ad-bbae-dc34dbf62464-0', usage_metadata={'input_tokens': 1640, 'output_tokens': 28, 'total_tokens': 1668, 'input_token_details': {'cache_read': 0}}),\n",
       " HumanMessage(content='sure The pdf path: ../ReqView-Example_Software_Requirements_Specification_SRS_Document-3-5.pdf', additional_kwargs={}, response_metadata={}, id='ffb85965-8a0a-4c59-ab51-887e2f0ba3a4'),\n",
       " AIMessage(content='Thank you. To proceed, I need your confirmation to extract the requirements and context from the PDF document. This will overwrite any existing requirements and context in the current state. Do you want to proceed?', additional_kwargs={}, response_metadata={'prompt_feedback': {'block_reason': 0, 'safety_ratings': []}, 'finish_reason': 'STOP', 'model_name': 'gemini-2.0-flash', 'safety_ratings': []}, id='run--79b4fb43-778f-4ec3-a591-40f612f197d6-0', usage_metadata={'input_tokens': 1693, 'output_tokens': 41, 'total_tokens': 1734, 'input_token_details': {'cache_read': 0}}),\n",
       " HumanMessage(content='confirm', additional_kwargs={}, response_metadata={}, id='b6058b7f-0955-4f20-aa2c-b071c9a449d1'),\n",
       " AIMessage(content='', additional_kwargs={'function_call': {'name': 'generate_requirements_from_document_pdf_tool', 'arguments': '{\"x\": \"../ReqView-Example_Software_Requirements_Specification_SRS_Document-3-5.pdf\"}'}}, response_metadata={'prompt_feedback': {'block_reason': 0, 'safety_ratings': []}, 'finish_reason': 'STOP', 'model_name': 'gemini-2.0-flash', 'safety_ratings': []}, id='run--283713f1-2722-4671-b936-5932b39b00ca-0', tool_calls=[{'name': 'generate_requirements_from_document_pdf_tool', 'args': {'x': '../ReqView-Example_Software_Requirements_Specification_SRS_Document-3-5.pdf'}, 'id': '55452d4b-08d9-47a3-bfc6-4d77800f7a44', 'type': 'tool_call'}], usage_metadata={'input_tokens': 1734, 'output_tokens': 33, 'total_tokens': 1767, 'input_token_details': {'cache_read': 0}}),\n",
       " ToolMessage(content='Successfully created requirements from the document', name='generate_requirements_from_document_pdf_tool', id='d03fd418-01d9-42be-bf95-343c44723fd7', tool_call_id='55452d4b-08d9-47a3-bfc6-4d77800f7a44'),\n",
       " AIMessage(content='I have extracted the requirements and context from the PDF document.\\n\\nNow that I have the requirements and context, I can generate test cases. Do you want to proceed with generating test cases? This will overwrite any existing test cases in the current state.', additional_kwargs={}, response_metadata={'prompt_feedback': {'block_reason': 0, 'safety_ratings': []}, 'finish_reason': 'STOP', 'model_name': 'gemini-2.0-flash', 'safety_ratings': []}, id='run--629bfb93-da71-48bc-b7f2-08ff44cfac5a-0', usage_metadata={'input_tokens': 1785, 'output_tokens': 51, 'total_tokens': 1836, 'input_token_details': {'cache_read': 0}}),\n",
       " HumanMessage(content='find me the req 2', additional_kwargs={}, response_metadata={}, id='8ab4c9e4-27ea-49b6-a459-c7c8b0a61379'),\n",
       " AIMessage(content='', additional_kwargs={'function_call': {'name': 'get_requirement_info_by_lookup_tool', 'arguments': '{\"target_key\": \"ID\", \"target_value\": \"2\"}'}}, response_metadata={'prompt_feedback': {'block_reason': 0, 'safety_ratings': []}, 'finish_reason': 'STOP', 'model_name': 'gemini-2.0-flash', 'safety_ratings': []}, id='run--6d7b2aaa-44c3-4e83-8601-dd8776ab095d-0', tool_calls=[{'name': 'get_requirement_info_by_lookup_tool', 'args': {'target_key': 'ID', 'target_value': '2'}, 'id': '9369ee5d-eba8-4d87-a070-db0edff05c12', 'type': 'tool_call'}], usage_metadata={'input_tokens': 1841, 'output_tokens': 19, 'total_tokens': 1860, 'input_token_details': {'cache_read': 0}}),\n",
       " ToolMessage(content='[]', name='get_requirement_info_by_lookup_tool', id='6494e5d6-2507-4e52-a207-ed44812c2b49', tool_call_id='9369ee5d-eba8-4d87-a070-db0edff05c12'),\n",
       " AIMessage(content='I couldn\\'t find a requirement with the ID \"2\". Would you like me to search for the requirement using a description instead?', additional_kwargs={}, response_metadata={'prompt_feedback': {'block_reason': 0, 'safety_ratings': []}, 'finish_reason': 'STOP', 'model_name': 'gemini-2.0-flash', 'safety_ratings': []}, id='run--3970fe27-18e3-4425-bb52-832703b2d277-0', usage_metadata={'input_tokens': 1872, 'output_tokens': 28, 'total_tokens': 1900, 'input_token_details': {'cache_read': 0}}),\n",
       " HumanMessage(content='find me the req-002', additional_kwargs={}, response_metadata={}, id='9ca09e72-6515-401f-b4d1-e553cbbf0f59'),\n",
       " AIMessage(content='', additional_kwargs={'function_call': {'name': 'get_requirement_info_by_lookup_tool', 'arguments': '{\"target_key\": \"ID\", \"target_value\": \"REQ-002\"}'}}, response_metadata={'prompt_feedback': {'block_reason': 0, 'safety_ratings': []}, 'finish_reason': 'STOP', 'model_name': 'gemini-2.0-flash', 'safety_ratings': []}, id='run--a5c15b51-b8ad-4892-89ba-49366afb0fcc-0', tool_calls=[{'name': 'get_requirement_info_by_lookup_tool', 'args': {'target_key': 'ID', 'target_value': 'REQ-002'}, 'id': '2fbf419d-f0d5-4b88-8a5e-42519911dacb', 'type': 'tool_call'}], usage_metadata={'input_tokens': 1907, 'output_tokens': 23, 'total_tokens': 1930, 'input_token_details': {'cache_read': 0}}),\n",
       " ToolMessage(content=\"[{'ID': 'REQ-002', 'Description': 'The application shall provide a GUI with menus, toolbars, buttons, panes, containers, and grids for keyboard and mouse control.', 'Category': 'User', 'Dependency': 'N/A'}]\", name='get_requirement_info_by_lookup_tool', id='c36e9321-3323-4cd0-9e12-4ccf4057be3a', tool_call_id='2fbf419d-f0d5-4b88-8a5e-42519911dacb'),\n",
       " AIMessage(content=\"I found requirement REQ-002. It states: 'The application shall provide a GUI with menus, toolbars, buttons, panes, containers, and grids for keyboard and mouse control.'\\n\\nDo you need anything else?\", additional_kwargs={}, response_metadata={'prompt_feedback': {'block_reason': 0, 'safety_ratings': []}, 'finish_reason': 'STOP', 'model_name': 'gemini-2.0-flash', 'safety_ratings': []}, id='run--9cda368c-fc82-4788-8ba4-aba8256c11da-0', usage_metadata={'input_tokens': 1998, 'output_tokens': 47, 'total_tokens': 2045, 'input_token_details': {'cache_read': 0}})]"
      ]
     },
     "execution_count": 13,
     "metadata": {},
     "output_type": "execute_result"
    }
   ],
   "source": [
    "currState['messages']"
   ]
  }
 ],
 "metadata": {
  "kernelspec": {
   "display_name": ".venv",
   "language": "python",
   "name": "python3"
  },
  "language_info": {
   "codemirror_mode": {
    "name": "ipython",
    "version": 3
   },
   "file_extension": ".py",
   "mimetype": "text/x-python",
   "name": "python",
   "nbconvert_exporter": "python",
   "pygments_lexer": "ipython3",
   "version": "3.12.8"
  }
 },
 "nbformat": 4,
 "nbformat_minor": 5
}
